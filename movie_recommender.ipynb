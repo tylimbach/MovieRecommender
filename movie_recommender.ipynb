{
 "nbformat": 4,
 "nbformat_minor": 0,
 "metadata": {
  "colab": {
   "name": "Movie/TV Show Recommendations - 412 Final Project",
   "provenance": [],
   "collapsed_sections": []
  },
  "kernelspec": {
   "name": "python3",
   "language": "python",
   "display_name": "Python 3 (ipykernel)"
  },
  "language_info": {
   "name": "python"
  }
 },
 "cells": [
  {
   "cell_type": "code",
   "metadata": {
    "id": "vHm-mSy2FDYy"
   },
   "source": [
    "from sklearn.feature_extraction.text import CountVectorizer\n",
    "from sklearn.feature_extraction.text import TfidfVectorizer\n",
    "from sklearn.metrics.pairwise import cosine_similarity\n",
    "from sklearn.metrics import jaccard_score\n",
    "from sklearn.metrics import pairwise_distances\n"
   ],
   "execution_count": 22,
   "outputs": []
  },
  {
   "cell_type": "code",
   "metadata": {
    "id": "vPx77KQRFDux",
    "colab": {
     "base_uri": "https://localhost:8080/"
    },
    "outputId": "35629a75-2ef3-4267-d283-88c5ee14f39e"
   },
   "source": [
    "# from google.colab import drive\n",
    "# drive.mount(\"/content/gdrive\")"
   ],
   "execution_count": 23,
   "outputs": []
  },
  {
   "cell_type": "code",
   "metadata": {
    "id": "ymXlRadyXOH3"
   },
   "source": [
    "# importing modules for the project\n",
    "\n",
    "import numpy as np\n",
    "import sklearn\n",
    "import pandas as pd\n",
    "import io\n",
    "import os\n",
    "import matplotlib.pyplot as plt\n",
    "# from nltk.corpus import stopwords\n",
    "\n",
    "\n",
    "%matplotlib inline\n",
    "\n",
    "np.random.seed(1)\n",
    "\n",
    "# import nltk\n",
    "# nltk.download('stopwords')\n"
   ],
   "execution_count": 26,
   "outputs": []
  },
  {
   "cell_type": "code",
   "metadata": {
    "id": "L3Ucb1bbf3QD"
   },
   "source": [
    "# movies = pd.read_csv(\"/content/gdrive/My Drive/movies_pop_updated.csv\")\n",
    "movies = pd.read_csv(\"cleaned_movies.csv\")"
   ],
   "execution_count": 27,
   "outputs": []
  },
  {
   "cell_type": "code",
   "source": [
    "movies.head()"
   ],
   "metadata": {
    "colab": {
     "base_uri": "https://localhost:8080/",
     "height": 467
    },
    "id": "-zXtkboHuULk",
    "outputId": "2895d005-8283-44d4-ce22-6e9c6f115e2d"
   },
   "execution_count": 28,
   "outputs": [
    {
     "data": {
      "text/plain": "   Unnamed: 0                        title     id  \\\n0           0                    Toy Story    862   \n1           1                      Jumanji   8844   \n2           2             Grumpier Old Men  15602   \n3           4  Father of the Bride Part II  11862   \n4           5                         Heat    949   \n\n                                         description  \\\n0  Led by Woody, Andy's toys live happily in his ...   \n1  When siblings Judy and Peter discover an encha...   \n2  A family wedding reignites the ancient feud be...   \n3  Just when George Banks has recovered from his ...   \n4  Obsessive master thief, Neil McCauley leads a ...   \n\n                           genres  year       director  \\\n0       animation, comedy, family  1995  John Lasseter   \n1      adventure, fantasy, family  1995   Joe Johnston   \n2                 romance, comedy  1995  Howard Deutch   \n3                          comedy  1995  Charles Shyer   \n4  action, crime, drama, thriller  1995   Michael Mann   \n\n                                                cast  popularity  average_vote  \n0  Tom Hanks, Tim Allen, Don Rickles, Jim Varney,...        21.0           7.7  \n1  Robin Williams, Jonathan Hyde, Kirsten Dunst, ...        17.0           6.9  \n2  Walter Matthau, Jack Lemmon, Ann-Margret, Soph...        11.0           6.5  \n3  Steve Martin, Diane Keaton, Martin Short, Kimb...         8.0           5.7  \n4  Al Pacino, Robert De Niro, Val Kilmer, Jon Voi...        17.0           7.7  ",
      "text/html": "<div>\n<style scoped>\n    .dataframe tbody tr th:only-of-type {\n        vertical-align: middle;\n    }\n\n    .dataframe tbody tr th {\n        vertical-align: top;\n    }\n\n    .dataframe thead th {\n        text-align: right;\n    }\n</style>\n<table border=\"1\" class=\"dataframe\">\n  <thead>\n    <tr style=\"text-align: right;\">\n      <th></th>\n      <th>Unnamed: 0</th>\n      <th>title</th>\n      <th>id</th>\n      <th>description</th>\n      <th>genres</th>\n      <th>year</th>\n      <th>director</th>\n      <th>cast</th>\n      <th>popularity</th>\n      <th>average_vote</th>\n    </tr>\n  </thead>\n  <tbody>\n    <tr>\n      <th>0</th>\n      <td>0</td>\n      <td>Toy Story</td>\n      <td>862</td>\n      <td>Led by Woody, Andy's toys live happily in his ...</td>\n      <td>animation, comedy, family</td>\n      <td>1995</td>\n      <td>John Lasseter</td>\n      <td>Tom Hanks, Tim Allen, Don Rickles, Jim Varney,...</td>\n      <td>21.0</td>\n      <td>7.7</td>\n    </tr>\n    <tr>\n      <th>1</th>\n      <td>1</td>\n      <td>Jumanji</td>\n      <td>8844</td>\n      <td>When siblings Judy and Peter discover an encha...</td>\n      <td>adventure, fantasy, family</td>\n      <td>1995</td>\n      <td>Joe Johnston</td>\n      <td>Robin Williams, Jonathan Hyde, Kirsten Dunst, ...</td>\n      <td>17.0</td>\n      <td>6.9</td>\n    </tr>\n    <tr>\n      <th>2</th>\n      <td>2</td>\n      <td>Grumpier Old Men</td>\n      <td>15602</td>\n      <td>A family wedding reignites the ancient feud be...</td>\n      <td>romance, comedy</td>\n      <td>1995</td>\n      <td>Howard Deutch</td>\n      <td>Walter Matthau, Jack Lemmon, Ann-Margret, Soph...</td>\n      <td>11.0</td>\n      <td>6.5</td>\n    </tr>\n    <tr>\n      <th>3</th>\n      <td>4</td>\n      <td>Father of the Bride Part II</td>\n      <td>11862</td>\n      <td>Just when George Banks has recovered from his ...</td>\n      <td>comedy</td>\n      <td>1995</td>\n      <td>Charles Shyer</td>\n      <td>Steve Martin, Diane Keaton, Martin Short, Kimb...</td>\n      <td>8.0</td>\n      <td>5.7</td>\n    </tr>\n    <tr>\n      <th>4</th>\n      <td>5</td>\n      <td>Heat</td>\n      <td>949</td>\n      <td>Obsessive master thief, Neil McCauley leads a ...</td>\n      <td>action, crime, drama, thriller</td>\n      <td>1995</td>\n      <td>Michael Mann</td>\n      <td>Al Pacino, Robert De Niro, Val Kilmer, Jon Voi...</td>\n      <td>17.0</td>\n      <td>7.7</td>\n    </tr>\n  </tbody>\n</table>\n</div>"
     },
     "execution_count": 28,
     "metadata": {},
     "output_type": "execute_result"
    }
   ]
  },
  {
   "cell_type": "code",
   "source": [
    "movies['index'] = range(len(movies))\n",
    "movies = movies.reset_index()"
   ],
   "metadata": {
    "id": "8sijYc5Kfdfr"
   },
   "execution_count": 29,
   "outputs": []
  },
  {
   "cell_type": "code",
   "metadata": {
    "id": "-8AvacG0HgOa"
   },
   "source": [
    "movie_features = [\"director\", \"cast\", \"title\"]\n",
    "\n",
    "for feature in movie_features:\n",
    "    movies[feature] = movies[feature].fillna('')\n"
   ],
   "execution_count": 30,
   "outputs": []
  },
  {
   "cell_type": "markdown",
   "source": [
    "# Base Score (Director, 4 Cast, Title) \n",
    "- cosine similarity with CountVectorizer for the features above\n",
    "- removed genre since it is heavily weighted in a later section"
   ],
   "metadata": {
    "id": "SgsW1_sP57X7"
   }
  },
  {
   "cell_type": "code",
   "metadata": {
    "id": "BzRMklS7HgVw"
   },
   "source": [
    "def combined_features(row):\n",
    "    return (row['director']+\" \"+''.join(row['cast'].split(', ')[:4]) + \" \" + row['title'])\n",
    "movies[\"combined_features\"] = movies.apply(combined_features, axis =1)"
   ],
   "execution_count": 31,
   "outputs": []
  },
  {
   "cell_type": "code",
   "metadata": {
    "id": "vm-klQEuHgkh"
   },
   "source": [
    "# movies.head()"
   ],
   "execution_count": 32,
   "outputs": []
  },
  {
   "cell_type": "code",
   "metadata": {
    "id": "GCdrClNrHv0L"
   },
   "source": [
    "def base_scores(movies):\n",
    "  movie_cv = CountVectorizer(stop_words='english')\n",
    "  CC_count_matrix = movie_cv.fit_transform(movies[\"combined_features\"])\n",
    "  #print(\"Count Matrix:\", CC_count_matrix.toarray())\n",
    "  cosine_sim = cosine_similarity(CC_count_matrix)\n",
    "  #print(cosine_sim)\n",
    "  return cosine_sim\n",
    "\n",
    "cosine_sim = base_scores(movies)"
   ],
   "execution_count": 33,
   "outputs": []
  },
  {
   "cell_type": "code",
   "metadata": {
    "colab": {
     "base_uri": "https://localhost:8080/",
     "height": 269
    },
    "id": "CY_NmZUjHv3m",
    "outputId": "be19220a-acd9-44c5-9e10-46acadfcf156"
   },
   "source": [
    "plt.imshow(cosine_sim, cmap='hot', interpolation='nearest')\n",
    "plt.show()"
   ],
   "execution_count": 34,
   "outputs": [
    {
     "data": {
      "text/plain": "<Figure size 432x288 with 1 Axes>",
      "image/png": "[encoded data removed]"
     },
     "metadata": {
      "needs_background": "light"
     },
     "output_type": "display_data"
    }
   ]
  },
  {
   "cell_type": "code",
   "metadata": {
    "id": "k1wiSR4cIO8a"
   },
   "source": [
    "def fetch_title(movies, title):\n",
    "    return movies[movies.title == title][\"index\"].values[0]\n",
    "\n",
    "def fetch_index(movies, index):\n",
    "    return movies[movies.index == index][\"title\"].values[0]"
   ],
   "execution_count": 35,
   "outputs": []
  },
  {
   "cell_type": "code",
   "metadata": {
    "id": "ZX4ujGniIYGG",
    "colab": {
     "base_uri": "https://localhost:8080/"
    },
    "outputId": "1d88fc32-b5a0-477e-815a-fb35c464d3a2"
   },
   "source": [
    "# calculate similarity matrix for base scores\n",
    "def dcgt_cosine_sim(movies, title, count):\n",
    "  cosine_sim = base_scores(movies)\n",
    "  movie_index = fetch_title(movies, title)\n",
    "  movie_proximity = list(enumerate(cosine_sim[movie_index]))\n",
    "  movie_proximity_sorted = sorted(movie_proximity, key=lambda x:x[1], reverse=True)\n",
    "  i = 1;\n",
    "  print(\"Recommendations similar to\", title, \":\")\n",
    "  while i <= count:\n",
    "    title = fetch_index(movies, movie_proximity_sorted[i][0])\n",
    "    print(f\"{i}. {title}\")\n",
    "    i+=1\n",
    "\n",
    "\n",
    "user_title = \"Star Wars: The Force Awakens\"\n",
    "num_recommendations = 10\n",
    "dcgt_cosine_sim(movies, user_title, num_recommendations)"
   ],
   "execution_count": 36,
   "outputs": [
    {
     "name": "stdout",
     "output_type": "stream",
     "text": [
      "Recommendations similar to Star Wars: The Force Awakens :\n",
      "1. Star Wars: The Clone Wars\n",
      "2. Star Trek\n",
      "3. Star Wars\n",
      "4. Star Trek Into Darkness\n",
      "5. Rogue One: A Star Wars Story\n",
      "6. Star Wars: Episode I - The Phantom Menace\n",
      "7. Star Wars: Episode II - Attack of the Clones\n",
      "8. Star Wars: Episode III - Revenge of the Sith\n",
      "9. Empire of Dreams: The Story of the Star Wars Trilogy\n",
      "10. Robot Chicken: Star Wars\n"
     ]
    }
   ]
  },
  {
   "cell_type": "code",
   "source": [
    "# https://www.kaggle.com/harshitshankhdhar/imdb-dataset-of-top-1000-movies-and-tv-shows\n",
    "# movies.head()\n",
    "# movies.shape\n",
    "\n",
    "\n"
   ],
   "metadata": {
    "id": "_rVNdlcJXTwk"
   },
   "execution_count": 37,
   "outputs": []
  },
  {
   "cell_type": "markdown",
   "source": [
    "`# Genre, Description, Year Similarities\n",
    "- Genre Score Calculation (Similarity matrix based on genres)\n",
    "    - Would have used Jaccard score instead, but sklearn doesn't support it on vectorizers. My custom Jaccard score matrix was too slow to compute.\n",
    "    - Used CountVectorizer and cosine similarity instead\n",
    "- Description Score Calculation (Similarity matrix based on genres)\n",
    "    - TfidfVectorizer and cosine similarity to determine the similarity of the short descriptions.\n",
    "- Year Difference Calculation Matrix (as a penalty for final weight)\n",
    "- Normalize vectors from 0...1 for popularity and rating to use for final weight\n",
    "\n",
    "See the combine function to see the weights I used if needed. They are pretty arbitrary, most of the weight is on genre though, then the rest is made up with the other factors."
   ],
   "metadata": {
    "id": "Rcxn-p1Z5tNa"
   }
  },
  {
   "cell_type": "code",
   "source": [
    "# return a vector of cosine similarity scores for genres of the title\n",
    "def genre_scores(movies):\n",
    "  vectorizer = CountVectorizer()\n",
    "  matrix = cosine_similarity(vectorizer.fit_transform(movies['genres']))\n",
    "  return matrix\n",
    "\n",
    "# return a matrix of tfidf cosine similarity scores for descriptions\n",
    "def description_scores(movies): \n",
    "  vectorizer_request = TfidfVectorizer(stop_words='english')\n",
    "  tfidf_matrix = vectorizer_request.fit_transform(movies[\"description\"])\n",
    "  description_similarity = cosine_similarity(tfidf_matrix)\n",
    "  return description_similarity\n",
    "\n",
    "# return a matrix of the difference between years for movie release / 100\n",
    "def year_scores(movies):\n",
    "  y1 = movies['year'].values\n",
    "  y2 = movies['year'].values\n",
    "  matrix = np.abs((y1[None, :] - y2[:, None]) / 100)\n",
    "  return matrix\n",
    "\n",
    "def norm(data, max, min):\n",
    "  result = ((data - min) / (max - min))\n",
    "  for x in range(len(result)):\n",
    "    if result[x] > 1:\n",
    "      result[x] = 1\n",
    "    if result[x] < 0.05:\n",
    "      result[x] = 0.05\n",
    "\n",
    "  return result\n",
    "\n",
    "yscores = year_scores(movies)\n",
    "bscores = base_scores(movies)\n",
    "gscores = genre_scores(movies)\n",
    "dscores = genre_scores(movies)\n",
    "pvec = norm(movies['popularity'], 25, 0)\n",
    "rvec = norm(movies['average_vote'], 10, 0)\n",
    "\n",
    "print(yscores)\n",
    "print(pvec)\n",
    "print(rvec)"
   ],
   "metadata": {
    "id": "jCA-n4Cm5z7m",
    "colab": {
     "base_uri": "https://localhost:8080/"
    },
    "outputId": "29d99dd5-8529-4980-c64a-4d1dbbbed8ca"
   },
   "execution_count": 38,
   "outputs": [
    {
     "name": "stdout",
     "output_type": "stream",
     "text": [
      "[[0.   0.   0.   ... 0.22 0.21 0.04]\n",
      " [0.   0.   0.   ... 0.22 0.21 0.04]\n",
      " [0.   0.   0.   ... 0.22 0.21 0.04]\n",
      " ...\n",
      " [0.22 0.22 0.22 ... 0.   0.01 0.26]\n",
      " [0.21 0.21 0.21 ... 0.01 0.   0.25]\n",
      " [0.04 0.04 0.04 ... 0.26 0.25 0.  ]]\n",
      "0       0.84\n",
      "1       0.68\n",
      "2       0.44\n",
      "3       0.32\n",
      "4       0.68\n",
      "        ... \n",
      "9237    0.32\n",
      "9238    0.36\n",
      "9239    0.20\n",
      "9240    0.32\n",
      "9241    0.20\n",
      "Name: popularity, Length: 9242, dtype: float64\n",
      "0       0.77\n",
      "1       0.69\n",
      "2       0.65\n",
      "3       0.57\n",
      "4       0.77\n",
      "        ... \n",
      "9237    1.00\n",
      "9238    0.60\n",
      "9239    0.62\n",
      "9240    0.56\n",
      "9241    0.57\n",
      "Name: average_vote, Length: 9242, dtype: float64\n"
     ]
    }
   ]
  },
  {
   "cell_type": "code",
   "source": [
    "def combine(base_scores, genre_scores, description_scores, year_scores, popularity_vector, rating_vector):\n",
    "  combined_matrix = np.subtract(np.add(np.add(np.multiply(base_scores, 2), np.multiply(genre_scores, 2)), description_scores), year_scores)\n",
    "  # weigh based on popularity & rating\n",
    "  opinion_vector = np.add(popularity_vector, rating_vector)\n",
    "  return np.add(combined_matrix, np.multiply(opinion_vector[:, np.newaxis], 1))\n",
    "\n",
    "scores = combine(bscores, gscores, dscores, yscores, pvec, rvec)"
   ],
   "metadata": {
    "id": "UvA97b1upK9f",
    "colab": {
     "base_uri": "https://localhost:8080/"
    },
    "outputId": "76912e00-a449-4c24-b3c8-aab3cca0bfdd"
   },
   "execution_count": 39,
   "outputs": [
    {
     "name": "stderr",
     "output_type": "stream",
     "text": [
      "/var/folders/sf/mblmxltx6bxc945qnhg523vm0000gn/T/ipykernel_40005/2228919337.py:5: FutureWarning: Support for multi-dimensional indexing (e.g. `obj[:, None]`) is deprecated and will be removed in a future version.  Convert to a numpy array before indexing instead.\n",
      "  return np.add(combined_matrix, np.multiply(opinion_vector[:, np.newaxis], 1))\n"
     ]
    }
   ]
  },
  {
   "cell_type": "markdown",
   "source": [
    "# Recommender Function"
   ],
   "metadata": {
    "id": "tXeh0w4znlQk"
   }
  },
  {
   "cell_type": "code",
   "source": [
    "def recommend(movies, scores, titles, count):\n",
    "  array_prox = np.zeros([len(movies), 2])\n",
    "  array_prox[:,0] = np.array(movies[\"index\"], dtype=int)\n",
    "  for title in titles:\n",
    "    movie_index = fetch_title(movies, title)\n",
    "    movie_proximity = np.array(scores[movie_index])\n",
    "    array_prox[:,1] = array_prox[:,1] + movie_proximity\n",
    "\n",
    "  movie_proximity_sorted = array_prox[array_prox[:, 1].argsort()][::-1]\n",
    "\n",
    "  i = 0\n",
    "  n = 1\n",
    "  print(\"Recommendations:\")\n",
    "  while n <= count:\n",
    "    title = fetch_index(movies, int(movie_proximity_sorted[i, 0]))\n",
    "    if title not in titles:\n",
    "      print(f\"{n}. {title}\")\n",
    "      n+=1\n",
    "    i+=1\n",
    "\n",
    "\n",
    "num_recommendations = 10\n",
    "titles = [\"The Maze Runner\", \"Star Wars\"]\n",
    "recommend(movies, scores, titles, num_recommendations)"
   ],
   "metadata": {
    "colab": {
     "base_uri": "https://localhost:8080/"
    },
    "id": "hHPcvTpMnjg5",
    "outputId": "9c039e66-3513-4c14-c0d0-8264511d646a"
   },
   "execution_count": 51,
   "outputs": [
    {
     "name": "stdout",
     "output_type": "stream",
     "text": [
      "Recommendations:\n",
      "1. Star Wars: Episode I - The Phantom Menace\n",
      "2. Star Wars: Episode II - Attack of the Clones\n",
      "3. Star Wars: Episode III - Revenge of the Sith\n",
      "4. Return of the Jedi\n",
      "5. The Empire Strikes Back\n",
      "6. Rogue One: A Star Wars Story\n",
      "7. Mad Max\n",
      "8. Star Trek: First Contact\n",
      "9. Star Trek: Insurrection\n",
      "10. Star Trek: Generations\n"
     ]
    }
   ]
  },
  {
   "cell_type": "markdown",
   "source": [
    "# Preliminary Exploratory Data Analysis\n"
   ],
   "metadata": {
    "id": "Bj8gEN8EtAPC"
   }
  },
  {
   "cell_type": "code",
   "source": [
    "all_genres = [s.split(\", \") for s in movies[movies.genres.notnull()].genres]\n",
    "genres = [item for l in all_genres for item in l ]\n",
    "unique_genres = set(genres)\n",
    "print (f\"total of {len(unique_genres)} unique genres from {len(genres)} occurances.\")\n",
    "pd.Series(genres).value_counts().plot(kind='bar', figsize=(15, 4))\n",
    "plt.title(\"# of movies per genre\")\n",
    "plt.ylabel(\"# of movies\")\n",
    "plt.xlabel(\"genre\")\n",
    "plt.show()"
   ],
   "metadata": {
    "colab": {
     "base_uri": "https://localhost:8080/",
     "height": 374
    },
    "id": "5OH1vdwWtNeZ",
    "outputId": "07eb7168-7899-4e7e-cf0e-06803b5de6b5"
   },
   "execution_count": 21,
   "outputs": [
    {
     "output_type": "stream",
     "name": "stdout",
     "text": [
      "total of 20 unique genres from 23579 occurances.\n"
     ]
    },
    {
     "output_type": "display_data",
     "data": {
      "image/png": "[encoded data removed]",
      "text/plain": [
       "<Figure size 1080x288 with 1 Axes>"
      ]
     },
     "metadata": {
      "needs_background": "light"
     }
    }
   ]
  },
  {
   "cell_type": "code",
   "source": [
    "movies['year'] = pd.DatetimeIndex(movies['date']).year\n",
    "movies['year'] = movies['year'].fillna(method=\"ffill\")\n",
    "movies['year'] = movies['year'].astype(int)\n",
    "movies.head()"
   ],
   "metadata": {
    "id": "UleGbdSZthoA",
    "colab": {
     "base_uri": "https://localhost:8080/",
     "height": 572
    },
    "outputId": "ebde3f7c-22b4-48b1-c592-a310d9588269"
   },
   "execution_count": 22,
   "outputs": [
    {
     "output_type": "error",
     "ename": "KeyError",
     "evalue": "ignored",
     "traceback": [
      "\u001B[0;31m---------------------------------------------------------------------------\u001B[0m",
      "\u001B[0;31mKeyError\u001B[0m                                  Traceback (most recent call last)",
      "\u001B[0;32m/usr/local/lib/python3.7/dist-packages/pandas/core/indexes/base.py\u001B[0m in \u001B[0;36mget_loc\u001B[0;34m(self, key, method, tolerance)\u001B[0m\n\u001B[1;32m   2897\u001B[0m             \u001B[0;32mtry\u001B[0m\u001B[0;34m:\u001B[0m\u001B[0;34m\u001B[0m\u001B[0;34m\u001B[0m\u001B[0m\n\u001B[0;32m-> 2898\u001B[0;31m                 \u001B[0;32mreturn\u001B[0m \u001B[0mself\u001B[0m\u001B[0;34m.\u001B[0m\u001B[0m_engine\u001B[0m\u001B[0;34m.\u001B[0m\u001B[0mget_loc\u001B[0m\u001B[0;34m(\u001B[0m\u001B[0mcasted_key\u001B[0m\u001B[0;34m)\u001B[0m\u001B[0;34m\u001B[0m\u001B[0;34m\u001B[0m\u001B[0m\n\u001B[0m\u001B[1;32m   2899\u001B[0m             \u001B[0;32mexcept\u001B[0m \u001B[0mKeyError\u001B[0m \u001B[0;32mas\u001B[0m \u001B[0merr\u001B[0m\u001B[0;34m:\u001B[0m\u001B[0;34m\u001B[0m\u001B[0;34m\u001B[0m\u001B[0m\n",
      "\u001B[0;32mpandas/_libs/index.pyx\u001B[0m in \u001B[0;36mpandas._libs.index.IndexEngine.get_loc\u001B[0;34m()\u001B[0m\n",
      "\u001B[0;32mpandas/_libs/index.pyx\u001B[0m in \u001B[0;36mpandas._libs.index.IndexEngine.get_loc\u001B[0;34m()\u001B[0m\n",
      "\u001B[0;32mpandas/_libs/hashtable_class_helper.pxi\u001B[0m in \u001B[0;36mpandas._libs.hashtable.PyObjectHashTable.get_item\u001B[0;34m()\u001B[0m\n",
      "\u001B[0;32mpandas/_libs/hashtable_class_helper.pxi\u001B[0m in \u001B[0;36mpandas._libs.hashtable.PyObjectHashTable.get_item\u001B[0;34m()\u001B[0m\n",
      "\u001B[0;31mKeyError\u001B[0m: 'date'",
      "\nThe above exception was the direct cause of the following exception:\n",
      "\u001B[0;31mKeyError\u001B[0m                                  Traceback (most recent call last)",
      "\u001B[0;32m<ipython-input-22-9c2dcc6e0541>\u001B[0m in \u001B[0;36m<module>\u001B[0;34m()\u001B[0m\n\u001B[0;32m----> 1\u001B[0;31m \u001B[0mmovies\u001B[0m\u001B[0;34m[\u001B[0m\u001B[0;34m'year'\u001B[0m\u001B[0;34m]\u001B[0m \u001B[0;34m=\u001B[0m \u001B[0mpd\u001B[0m\u001B[0;34m.\u001B[0m\u001B[0mDatetimeIndex\u001B[0m\u001B[0;34m(\u001B[0m\u001B[0mmovies\u001B[0m\u001B[0;34m[\u001B[0m\u001B[0;34m'date'\u001B[0m\u001B[0;34m]\u001B[0m\u001B[0;34m)\u001B[0m\u001B[0;34m.\u001B[0m\u001B[0myear\u001B[0m\u001B[0;34m\u001B[0m\u001B[0;34m\u001B[0m\u001B[0m\n\u001B[0m\u001B[1;32m      2\u001B[0m \u001B[0mmovies\u001B[0m\u001B[0;34m[\u001B[0m\u001B[0;34m'year'\u001B[0m\u001B[0;34m]\u001B[0m \u001B[0;34m=\u001B[0m \u001B[0mmovies\u001B[0m\u001B[0;34m[\u001B[0m\u001B[0;34m'year'\u001B[0m\u001B[0;34m]\u001B[0m\u001B[0;34m.\u001B[0m\u001B[0mfillna\u001B[0m\u001B[0;34m(\u001B[0m\u001B[0mmethod\u001B[0m\u001B[0;34m=\u001B[0m\u001B[0;34m\"ffill\"\u001B[0m\u001B[0;34m)\u001B[0m\u001B[0;34m\u001B[0m\u001B[0;34m\u001B[0m\u001B[0m\n\u001B[1;32m      3\u001B[0m \u001B[0mmovies\u001B[0m\u001B[0;34m[\u001B[0m\u001B[0;34m'year'\u001B[0m\u001B[0;34m]\u001B[0m \u001B[0;34m=\u001B[0m \u001B[0mmovies\u001B[0m\u001B[0;34m[\u001B[0m\u001B[0;34m'year'\u001B[0m\u001B[0;34m]\u001B[0m\u001B[0;34m.\u001B[0m\u001B[0mastype\u001B[0m\u001B[0;34m(\u001B[0m\u001B[0mint\u001B[0m\u001B[0;34m)\u001B[0m\u001B[0;34m\u001B[0m\u001B[0;34m\u001B[0m\u001B[0m\n\u001B[1;32m      4\u001B[0m \u001B[0mmovies\u001B[0m\u001B[0;34m.\u001B[0m\u001B[0mhead\u001B[0m\u001B[0;34m(\u001B[0m\u001B[0;34m)\u001B[0m\u001B[0;34m\u001B[0m\u001B[0;34m\u001B[0m\u001B[0m\n",
      "\u001B[0;32m/usr/local/lib/python3.7/dist-packages/pandas/core/frame.py\u001B[0m in \u001B[0;36m__getitem__\u001B[0;34m(self, key)\u001B[0m\n\u001B[1;32m   2904\u001B[0m             \u001B[0;32mif\u001B[0m \u001B[0mself\u001B[0m\u001B[0;34m.\u001B[0m\u001B[0mcolumns\u001B[0m\u001B[0;34m.\u001B[0m\u001B[0mnlevels\u001B[0m \u001B[0;34m>\u001B[0m \u001B[0;36m1\u001B[0m\u001B[0;34m:\u001B[0m\u001B[0;34m\u001B[0m\u001B[0;34m\u001B[0m\u001B[0m\n\u001B[1;32m   2905\u001B[0m                 \u001B[0;32mreturn\u001B[0m \u001B[0mself\u001B[0m\u001B[0;34m.\u001B[0m\u001B[0m_getitem_multilevel\u001B[0m\u001B[0;34m(\u001B[0m\u001B[0mkey\u001B[0m\u001B[0;34m)\u001B[0m\u001B[0;34m\u001B[0m\u001B[0;34m\u001B[0m\u001B[0m\n\u001B[0;32m-> 2906\u001B[0;31m             \u001B[0mindexer\u001B[0m \u001B[0;34m=\u001B[0m \u001B[0mself\u001B[0m\u001B[0;34m.\u001B[0m\u001B[0mcolumns\u001B[0m\u001B[0;34m.\u001B[0m\u001B[0mget_loc\u001B[0m\u001B[0;34m(\u001B[0m\u001B[0mkey\u001B[0m\u001B[0;34m)\u001B[0m\u001B[0;34m\u001B[0m\u001B[0;34m\u001B[0m\u001B[0m\n\u001B[0m\u001B[1;32m   2907\u001B[0m             \u001B[0;32mif\u001B[0m \u001B[0mis_integer\u001B[0m\u001B[0;34m(\u001B[0m\u001B[0mindexer\u001B[0m\u001B[0;34m)\u001B[0m\u001B[0;34m:\u001B[0m\u001B[0;34m\u001B[0m\u001B[0;34m\u001B[0m\u001B[0m\n\u001B[1;32m   2908\u001B[0m                 \u001B[0mindexer\u001B[0m \u001B[0;34m=\u001B[0m \u001B[0;34m[\u001B[0m\u001B[0mindexer\u001B[0m\u001B[0;34m]\u001B[0m\u001B[0;34m\u001B[0m\u001B[0;34m\u001B[0m\u001B[0m\n",
      "\u001B[0;32m/usr/local/lib/python3.7/dist-packages/pandas/core/indexes/base.py\u001B[0m in \u001B[0;36mget_loc\u001B[0;34m(self, key, method, tolerance)\u001B[0m\n\u001B[1;32m   2898\u001B[0m                 \u001B[0;32mreturn\u001B[0m \u001B[0mself\u001B[0m\u001B[0;34m.\u001B[0m\u001B[0m_engine\u001B[0m\u001B[0;34m.\u001B[0m\u001B[0mget_loc\u001B[0m\u001B[0;34m(\u001B[0m\u001B[0mcasted_key\u001B[0m\u001B[0;34m)\u001B[0m\u001B[0;34m\u001B[0m\u001B[0;34m\u001B[0m\u001B[0m\n\u001B[1;32m   2899\u001B[0m             \u001B[0;32mexcept\u001B[0m \u001B[0mKeyError\u001B[0m \u001B[0;32mas\u001B[0m \u001B[0merr\u001B[0m\u001B[0;34m:\u001B[0m\u001B[0;34m\u001B[0m\u001B[0;34m\u001B[0m\u001B[0m\n\u001B[0;32m-> 2900\u001B[0;31m                 \u001B[0;32mraise\u001B[0m \u001B[0mKeyError\u001B[0m\u001B[0;34m(\u001B[0m\u001B[0mkey\u001B[0m\u001B[0;34m)\u001B[0m \u001B[0;32mfrom\u001B[0m \u001B[0merr\u001B[0m\u001B[0;34m\u001B[0m\u001B[0;34m\u001B[0m\u001B[0m\n\u001B[0m\u001B[1;32m   2901\u001B[0m \u001B[0;34m\u001B[0m\u001B[0m\n\u001B[1;32m   2902\u001B[0m         \u001B[0;32mif\u001B[0m \u001B[0mtolerance\u001B[0m \u001B[0;32mis\u001B[0m \u001B[0;32mnot\u001B[0m \u001B[0;32mNone\u001B[0m\u001B[0;34m:\u001B[0m\u001B[0;34m\u001B[0m\u001B[0;34m\u001B[0m\u001B[0m\n",
      "\u001B[0;31mKeyError\u001B[0m: 'date'"
     ]
    }
   ]
  },
  {
   "cell_type": "code",
   "source": [
    "movies['year'] = movies['year'].replace(0, np.NaN)\n",
    "years = movies[movies.year.notnull()].year # get rows where year is not None\n",
    "print (f\"Total of {len(set(years))} uinque years from {min(years)} to {max(years)}\")\n",
    "pd.Series(years).value_counts().sort_index().plot(kind='bar', figsize=(30, 15))\n",
    "plt.title(\"# of movies over time\")\n",
    "plt.ylabel(\"# of movies\")\n",
    "plt.xlabel(\"year\")\n",
    "plt.show()"
   ],
   "metadata": {
    "colab": {
     "base_uri": "https://localhost:8080/",
     "height": 730
    },
    "id": "IhjPXf_Qtwri",
    "outputId": "dc9e73c5-d60e-4181-83cf-4a386f1c2c1d"
   },
   "execution_count": null,
   "outputs": [
    {
     "output_type": "stream",
     "name": "stdout",
     "text": [
      "Total of 135 uinque years from 1874 to 2020\n"
     ]
    },
    {
     "output_type": "display_data",
     "data": {
      "image/png": "[encoded data removed]",
      "text/plain": [
       "<Figure size 2160x1080 with 1 Axes>"
      ]
     },
     "metadata": {
      "needs_background": "light"
     }
    }
   ]
  },
  {
   "cell_type": "code",
   "source": [
    "movies['average_vote'] = movies['average_vote'].replace(0, np.NaN)\n",
    "print (movies['average_vote'].describe())\n",
    "pd.Series(movies['average_vote']).value_counts().sort_index().plot(kind='bar', figsize=(15, 10))\n",
    "plt.title(\"Distribution of votes\")\n",
    "plt.ylabel(\"# of movies\")\n",
    "plt.xlabel(\"votes\")\n",
    "plt.show()"
   ],
   "metadata": {
    "colab": {
     "base_uri": "https://localhost:8080/",
     "height": 798
    },
    "id": "VwqE6hJjt4YO",
    "outputId": "ca80d335-fa13-47c6-999f-3d999eb124b0"
   },
   "execution_count": null,
   "outputs": [
    {
     "output_type": "stream",
     "name": "stdout",
     "text": [
      "count    43503.000000\n",
      "mean         6.014325\n",
      "std          1.256845\n",
      "min          0.500000\n",
      "25%          5.300000\n",
      "50%          6.100000\n",
      "75%          6.800000\n",
      "max         10.000000\n",
      "Name: average_vote, dtype: float64\n"
     ]
    },
    {
     "output_type": "display_data",
     "data": {
      "image/png": "[encoded data removed]",
      "text/plain": [
       "<Figure size 1080x720 with 1 Axes>"
      ]
     },
     "metadata": {
      "needs_background": "light"
     }
    }
   ]
  },
  {
   "cell_type": "markdown",
   "source": [
    "Backup Code Unused"
   ],
   "metadata": {
    "id": "fXzaFOV7qKHt"
   }
  },
  {
   "cell_type": "code",
   "source": [
    "# # map genres to movie indices containing them\n",
    "# movie_genres = set()\n",
    "# genre_idx_map = {}\n",
    "# for index, genres in enumerate(movies['genres']):\n",
    "#   genres_list = genres.split(', ')\n",
    "#   for genre in genres_list:\n",
    "#     movie_genres.add(genre)\n",
    "#     if genre in genre_idx_map:\n",
    "#       genre_idx_map[genre].append(index)\n",
    "#     else:\n",
    "#       genre_idx_map[genre] = [index]\n",
    "  \n",
    "# print(movie_genres)\n",
    "# print(genre_idx_map)\n",
    "\n",
    "  # movie_index = fetch_title(title)\n",
    "  # title_genres = movies[\"genres\"][movie_index].split(', ')\n",
    "  # jaccard_vec = []\n",
    "  # for genres in movies[\"genres\"]:\n",
    "  #   intersection_c = 0\n",
    "  #   other_genres = genres.split(', ')\n",
    "  #   for genre in title_genres:\n",
    "  #     if genre in other_genres:\n",
    "  #       intersection_c += 1\n",
    "  #   union_c = len(title_genres) + len(other_genres) - intersection_c\n",
    "\n",
    "  #   jaccard_score = intersection_c / union_c\n",
    "  #   jaccard_vec.append(jaccard_score)\n",
    "\n",
    "  # movie_index = fetch_title(title)\n",
    "  # title_genres = movies[\"genres\"][movie_index].split(', ')\n",
    "  # movie_proximity_sorted = sorted(movie_proximity, key=lambda x:x[1], reverse=True)"
   ],
   "metadata": {
    "id": "S0v0GwTuqM6E"
   },
   "execution_count": null,
   "outputs": []
  }
 ]
}