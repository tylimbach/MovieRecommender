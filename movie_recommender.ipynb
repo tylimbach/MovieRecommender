{
 "nbformat": 4,
 "nbformat_minor": 0,
 "metadata": {
  "colab": {
   "name": "Movie/TV Show Recommendations - 412 Final Project",
   "provenance": [],
   "collapsed_sections": []
  },
  "kernelspec": {
   "name": "python3",
   "language": "python",
   "display_name": "Python 3 (ipykernel)"
  },
  "language_info": {
   "name": "python"
  }
 },
 "cells": [
  {
   "cell_type": "code",
   "metadata": {
    "id": "vHm-mSy2FDYy"
   },
   "source": [
    "from sklearn.feature_extraction.text import CountVectorizer\n",
    "from sklearn.feature_extraction.text import TfidfVectorizer\n",
    "from sklearn.metrics.pairwise import cosine_similarity"
   ],
   "execution_count": 10,
   "outputs": []
  },
  {
   "cell_type": "code",
   "metadata": {
    "id": "ymXlRadyXOH3"
   },
   "source": [
    "import numpy as np\n",
    "import pandas as pd\n",
    "import io\n",
    "import os\n",
    "import matplotlib.pyplot as plt\n",
    "\n",
    "%matplotlib inline\n",
    "\n",
    "np.random.seed(1)"
   ],
   "execution_count": 11,
   "outputs": []
  },
  {
   "cell_type": "markdown",
   "source": [
    "# Create a DataFrame from the data"
   ],
   "metadata": {
    "collapsed": false,
    "pycharm": {
     "name": "#%% md\n"
    }
   }
  },
  {
   "cell_type": "code",
   "metadata": {
    "id": "L3Ucb1bbf3QD"
   },
   "source": [
    "# Uncomment below for Google Collab\n",
    "# from google.colab import drive\n",
    "# drive.mount(\"/content/gdrive\")\n",
    "# movies = pd.read_csv(\"/content/gdrive/My Drive/movies_pop_updated.csv\")\n",
    "\n",
    "# Uncomment below for local\n",
    "movies_df = pd.read_csv(\"cleaned_movies.csv\")\n",
    "movies_df.head()"
   ],
   "execution_count": 37,
   "outputs": [
    {
     "data": {
      "text/plain": "   Unnamed: 0                        title     id  \\\n0           0                    Toy Story    862   \n1           1                      Jumanji   8844   \n2           2             Grumpier Old Men  15602   \n3           4  Father of the Bride Part II  11862   \n4           5                         Heat    949   \n\n                                         description  \\\n0  Led by Woody, Andy's toys live happily in his ...   \n1  When siblings Judy and Peter discover an encha...   \n2  A family wedding reignites the ancient feud be...   \n3  Just when George Banks has recovered from his ...   \n4  Obsessive master thief, Neil McCauley leads a ...   \n\n                           genres  year       director  \\\n0       animation, comedy, family  1995  John Lasseter   \n1      adventure, fantasy, family  1995   Joe Johnston   \n2                 romance, comedy  1995  Howard Deutch   \n3                          comedy  1995  Charles Shyer   \n4  action, crime, drama, thriller  1995   Michael Mann   \n\n                                                cast  popularity  average_vote  \n0  Tom Hanks, Tim Allen, Don Rickles, Jim Varney,...        21.0           7.7  \n1  Robin Williams, Jonathan Hyde, Kirsten Dunst, ...        17.0           6.9  \n2  Walter Matthau, Jack Lemmon, Ann-Margret, Soph...        11.0           6.5  \n3  Steve Martin, Diane Keaton, Martin Short, Kimb...         8.0           5.7  \n4  Al Pacino, Robert De Niro, Val Kilmer, Jon Voi...        17.0           7.7  ",
      "text/html": "<div>\n<style scoped>\n    .dataframe tbody tr th:only-of-type {\n        vertical-align: middle;\n    }\n\n    .dataframe tbody tr th {\n        vertical-align: top;\n    }\n\n    .dataframe thead th {\n        text-align: right;\n    }\n</style>\n<table border=\"1\" class=\"dataframe\">\n  <thead>\n    <tr style=\"text-align: right;\">\n      <th></th>\n      <th>Unnamed: 0</th>\n      <th>title</th>\n      <th>id</th>\n      <th>description</th>\n      <th>genres</th>\n      <th>year</th>\n      <th>director</th>\n      <th>cast</th>\n      <th>popularity</th>\n      <th>average_vote</th>\n    </tr>\n  </thead>\n  <tbody>\n    <tr>\n      <th>0</th>\n      <td>0</td>\n      <td>Toy Story</td>\n      <td>862</td>\n      <td>Led by Woody, Andy's toys live happily in his ...</td>\n      <td>animation, comedy, family</td>\n      <td>1995</td>\n      <td>John Lasseter</td>\n      <td>Tom Hanks, Tim Allen, Don Rickles, Jim Varney,...</td>\n      <td>21.0</td>\n      <td>7.7</td>\n    </tr>\n    <tr>\n      <th>1</th>\n      <td>1</td>\n      <td>Jumanji</td>\n      <td>8844</td>\n      <td>When siblings Judy and Peter discover an encha...</td>\n      <td>adventure, fantasy, family</td>\n      <td>1995</td>\n      <td>Joe Johnston</td>\n      <td>Robin Williams, Jonathan Hyde, Kirsten Dunst, ...</td>\n      <td>17.0</td>\n      <td>6.9</td>\n    </tr>\n    <tr>\n      <th>2</th>\n      <td>2</td>\n      <td>Grumpier Old Men</td>\n      <td>15602</td>\n      <td>A family wedding reignites the ancient feud be...</td>\n      <td>romance, comedy</td>\n      <td>1995</td>\n      <td>Howard Deutch</td>\n      <td>Walter Matthau, Jack Lemmon, Ann-Margret, Soph...</td>\n      <td>11.0</td>\n      <td>6.5</td>\n    </tr>\n    <tr>\n      <th>3</th>\n      <td>4</td>\n      <td>Father of the Bride Part II</td>\n      <td>11862</td>\n      <td>Just when George Banks has recovered from his ...</td>\n      <td>comedy</td>\n      <td>1995</td>\n      <td>Charles Shyer</td>\n      <td>Steve Martin, Diane Keaton, Martin Short, Kimb...</td>\n      <td>8.0</td>\n      <td>5.7</td>\n    </tr>\n    <tr>\n      <th>4</th>\n      <td>5</td>\n      <td>Heat</td>\n      <td>949</td>\n      <td>Obsessive master thief, Neil McCauley leads a ...</td>\n      <td>action, crime, drama, thriller</td>\n      <td>1995</td>\n      <td>Michael Mann</td>\n      <td>Al Pacino, Robert De Niro, Val Kilmer, Jon Voi...</td>\n      <td>17.0</td>\n      <td>7.7</td>\n    </tr>\n  </tbody>\n</table>\n</div>"
     },
     "execution_count": 37,
     "metadata": {},
     "output_type": "execute_result"
    }
   ]
  },
  {
   "cell_type": "code",
   "metadata": {
    "id": "-8AvacG0HgOa"
   },
   "source": [
    "def combined_features(row):\n",
    "  \"\"\" Combine the features director, first 4 cast, and title from one row into a string.\n",
    "\n",
    "  :param row: A row of a DataFrame\n",
    "  :return: A string of the combined features.\n",
    "  \"\"\"\n",
    "  cast4 = row['cast'].split(', ')[:4]\n",
    "  cast4 = ' '.join([''.join(x.split()) for x in cast4])\n",
    "\n",
    "  director = row['director'].replace(' ', '')\n",
    "\n",
    "  return ' '.join([director, cast4, row['title']])\n",
    "\n",
    "\n",
    "def add_columns(movies):\n",
    "  \"\"\" Add columns we will use for calculations to the DataFrame\n",
    "\n",
    "  - A column\n",
    "\n",
    "  :param movies:\n",
    "  :return:\n",
    "  \"\"\"\n",
    "  movies['index'] = range(len(movies))\n",
    "  movies = movies.reset_index()\n",
    "\n",
    "  movie_features = [\"director\", \"cast\", \"title\"]\n",
    "\n",
    "  for feature in movie_features:\n",
    "      movies[feature] = movies[feature].fillna('')\n",
    "\n",
    "  movies_df[\"combined_features\"] = movies_df.apply(combined_features, axis =1)\n",
    "\n",
    "add_columns(movies_df)\n",
    "movies_df.head()"
   ],
   "execution_count": 43,
   "outputs": [
    {
     "data": {
      "text/plain": "   Unnamed: 0                        title     id  \\\n0           0                    Toy Story    862   \n1           1                      Jumanji   8844   \n2           2             Grumpier Old Men  15602   \n3           4  Father of the Bride Part II  11862   \n4           5                         Heat    949   \n\n                                         description  \\\n0  Led by Woody, Andy's toys live happily in his ...   \n1  When siblings Judy and Peter discover an encha...   \n2  A family wedding reignites the ancient feud be...   \n3  Just when George Banks has recovered from his ...   \n4  Obsessive master thief, Neil McCauley leads a ...   \n\n                           genres  year       director  \\\n0       animation, comedy, family  1995  John Lasseter   \n1      adventure, fantasy, family  1995   Joe Johnston   \n2                 romance, comedy  1995  Howard Deutch   \n3                          comedy  1995  Charles Shyer   \n4  action, crime, drama, thriller  1995   Michael Mann   \n\n                                                cast  popularity  \\\n0  Tom Hanks, Tim Allen, Don Rickles, Jim Varney,...        21.0   \n1  Robin Williams, Jonathan Hyde, Kirsten Dunst, ...        17.0   \n2  Walter Matthau, Jack Lemmon, Ann-Margret, Soph...        11.0   \n3  Steve Martin, Diane Keaton, Martin Short, Kimb...         8.0   \n4  Al Pacino, Robert De Niro, Val Kilmer, Jon Voi...        17.0   \n\n   average_vote  index                                  combined_features  \n0           7.7      0  JohnLasseter TomHanks TimAllen DonRickles JimV...  \n1           6.9      1  JoeJohnston RobinWilliams JonathanHyde Kirsten...  \n2           6.5      2  HowardDeutch WalterMatthau JackLemmon Ann-Marg...  \n3           5.7      3  CharlesShyer SteveMartin DianeKeaton MartinSho...  \n4           7.7      4  MichaelMann AlPacino RobertDeNiro ValKilmer Jo...  ",
      "text/html": "<div>\n<style scoped>\n    .dataframe tbody tr th:only-of-type {\n        vertical-align: middle;\n    }\n\n    .dataframe tbody tr th {\n        vertical-align: top;\n    }\n\n    .dataframe thead th {\n        text-align: right;\n    }\n</style>\n<table border=\"1\" class=\"dataframe\">\n  <thead>\n    <tr style=\"text-align: right;\">\n      <th></th>\n      <th>Unnamed: 0</th>\n      <th>title</th>\n      <th>id</th>\n      <th>description</th>\n      <th>genres</th>\n      <th>year</th>\n      <th>director</th>\n      <th>cast</th>\n      <th>popularity</th>\n      <th>average_vote</th>\n      <th>index</th>\n      <th>combined_features</th>\n    </tr>\n  </thead>\n  <tbody>\n    <tr>\n      <th>0</th>\n      <td>0</td>\n      <td>Toy Story</td>\n      <td>862</td>\n      <td>Led by Woody, Andy's toys live happily in his ...</td>\n      <td>animation, comedy, family</td>\n      <td>1995</td>\n      <td>John Lasseter</td>\n      <td>Tom Hanks, Tim Allen, Don Rickles, Jim Varney,...</td>\n      <td>21.0</td>\n      <td>7.7</td>\n      <td>0</td>\n      <td>JohnLasseter TomHanks TimAllen DonRickles JimV...</td>\n    </tr>\n    <tr>\n      <th>1</th>\n      <td>1</td>\n      <td>Jumanji</td>\n      <td>8844</td>\n      <td>When siblings Judy and Peter discover an encha...</td>\n      <td>adventure, fantasy, family</td>\n      <td>1995</td>\n      <td>Joe Johnston</td>\n      <td>Robin Williams, Jonathan Hyde, Kirsten Dunst, ...</td>\n      <td>17.0</td>\n      <td>6.9</td>\n      <td>1</td>\n      <td>JoeJohnston RobinWilliams JonathanHyde Kirsten...</td>\n    </tr>\n    <tr>\n      <th>2</th>\n      <td>2</td>\n      <td>Grumpier Old Men</td>\n      <td>15602</td>\n      <td>A family wedding reignites the ancient feud be...</td>\n      <td>romance, comedy</td>\n      <td>1995</td>\n      <td>Howard Deutch</td>\n      <td>Walter Matthau, Jack Lemmon, Ann-Margret, Soph...</td>\n      <td>11.0</td>\n      <td>6.5</td>\n      <td>2</td>\n      <td>HowardDeutch WalterMatthau JackLemmon Ann-Marg...</td>\n    </tr>\n    <tr>\n      <th>3</th>\n      <td>4</td>\n      <td>Father of the Bride Part II</td>\n      <td>11862</td>\n      <td>Just when George Banks has recovered from his ...</td>\n      <td>comedy</td>\n      <td>1995</td>\n      <td>Charles Shyer</td>\n      <td>Steve Martin, Diane Keaton, Martin Short, Kimb...</td>\n      <td>8.0</td>\n      <td>5.7</td>\n      <td>3</td>\n      <td>CharlesShyer SteveMartin DianeKeaton MartinSho...</td>\n    </tr>\n    <tr>\n      <th>4</th>\n      <td>5</td>\n      <td>Heat</td>\n      <td>949</td>\n      <td>Obsessive master thief, Neil McCauley leads a ...</td>\n      <td>action, crime, drama, thriller</td>\n      <td>1995</td>\n      <td>Michael Mann</td>\n      <td>Al Pacino, Robert De Niro, Val Kilmer, Jon Voi...</td>\n      <td>17.0</td>\n      <td>7.7</td>\n      <td>4</td>\n      <td>MichaelMann AlPacino RobertDeNiro ValKilmer Jo...</td>\n    </tr>\n  </tbody>\n</table>\n</div>"
     },
     "execution_count": 43,
     "metadata": {},
     "output_type": "execute_result"
    }
   ]
  },
  {
   "cell_type": "markdown",
   "source": [
    "# Base Score (Director, 4 Cast, Title)\n",
    "Base similarity score is derived from the director, 4 cast members, and the title.\n",
    "\n",
    "Genre was initially included in the base score, to determine how strong the recommendations produced using only the base\n",
    "score could be. It was removed after deciding to add more weighted similarity matrices for other features, due to the\n",
    "fact that genre alone should be weighed very heavily."
   ],
   "metadata": {
    "id": "SgsW1_sP57X7"
   }
  },
  {
   "cell_type": "code",
   "metadata": {
    "id": "GCdrClNrHv0L"
   },
   "source": [
    "def base_scores(movies):\n",
    "  movie_cv = CountVectorizer(stop_words='english')\n",
    "  count_matrix = movie_cv.fit_transform(movies[\"combined_features\"])\n",
    "  # print(\"Count Matrix:\", CC_count_matrix.toarray())\n",
    "  cosine_sim = cosine_similarity(count_matrix)\n",
    "  # print(cosine_sim)\n",
    "  return cosine_sim\n",
    "\n",
    "base_sims = base_scores(movies_df)"
   ],
   "execution_count": 44,
   "outputs": []
  },
  {
   "cell_type": "code",
   "metadata": {
    "colab": {
     "base_uri": "https://localhost:8080/",
     "height": 269
    },
    "id": "CY_NmZUjHv3m",
    "outputId": "be19220a-acd9-44c5-9e10-46acadfcf156"
   },
   "source": [
    "plt.imshow(base_sims, cmap='hot', interpolation='nearest')\n",
    "plt.show()"
   ],
   "execution_count": 45,
   "outputs": [
    {
     "data": {
      "text/plain": "<Figure size 432x288 with 1 Axes>",
      "image/png": "[encoded data removed]"
     },
     "metadata": {
      "needs_background": "light"
     },
     "output_type": "display_data"
    }
   ]
  },
  {
   "cell_type": "code",
   "metadata": {
    "id": "k1wiSR4cIO8a"
   },
   "source": [
    "def fetch_title(movies, title):\n",
    "  \"\"\" Fetch a movie index using the title\n",
    "\n",
    "  :param movies: DataFrame of movies & info\n",
    "  :param title: Title of a movie\n",
    "  :return: The index of the first movie matching the title\n",
    "  \"\"\"\n",
    "  return movies[movies.title == title][\"index\"].values[0]\n",
    "\n",
    "def fetch_index(movies, index):\n",
    "  \"\"\" Fetch a movie title using the index\n",
    "\n",
    "  :param movies: DataFrame of movies & info\n",
    "  :param index: Index of a movie/row in the DataFrame\n",
    "  :return: The title of the movie at the given index\n",
    "  \"\"\"\n",
    "  return movies[movies.index == index][\"title\"].values[0]\n"
   ],
   "execution_count": 46,
   "outputs": []
  },
  {
   "cell_type": "markdown",
   "source": [
    "# Compute Matrices for Genre, Description, and Year Similarity\n",
    "- Genre Score Calculation (Similarity matrix based on genres)\n",
    "    - Would have used Jaccard score instead, but sklearn doesn't support it on vectorizers. My custom Jaccard score matrix was too slow to compute.\n",
    "    - Used CountVectorizer and cosine similarity instead\n",
    "- Description Score Calculation (Similarity matrix based on genres)\n",
    "    - TfidfVectorizer and cosine similarity to determine the similarity of the short descriptions.\n",
    "- Year Difference Calculation Matrix (as a penalty for final weight)\n",
    "- Normalize vectors from 0...1 for popularity and rating to use for final weight\n",
    "\n",
    "Combine weighted matrices and vectors to get a final similarity matrix"
   ],
   "metadata": {
    "id": "Rcxn-p1Z5tNa"
   }
  },
  {
   "cell_type": "code",
   "source": [
    "def genre_scores(movies):\n",
    "  \"\"\" Compute a similarity matrix for movies by genre\n",
    "\n",
    "  :param movies: DataFrame of movies & info\n",
    "  :return: A similarity matrix\n",
    "  \"\"\"\n",
    "  vectorizer = CountVectorizer()\n",
    "  count_matrix = vectorizer.fit_transform(movies['genres'])\n",
    "  genre_sims = cosine_similarity(count_matrix)\n",
    "  return genre_sims\n",
    "\n",
    "def description_scores(movies):\n",
    "  \"\"\" Compute a similarity matrix for movies by description\n",
    "\n",
    "  :param movies: DataFrame of movies & info\n",
    "  :return: A similarity matrix\n",
    "  \"\"\"\n",
    "  vectorizer = TfidfVectorizer(stop_words='english')\n",
    "  tfidf_matrix = vectorizer.fit_transform(movies[\"description\"])\n",
    "  description_sims = cosine_similarity(tfidf_matrix)\n",
    "  return description_sims\n",
    "\n",
    "def year_scores(movies):\n",
    "  \"\"\" Compute a difference matrix for movies by year\n",
    "  Note: Unlike the other similarity matrices, 0 is most similar\n",
    "\n",
    "  :param movies: DataFrame of movies & info\n",
    "  :return: A difference matrix\n",
    "  \"\"\"\n",
    "  y1 = movies['year'].values\n",
    "  y2 = movies['year'].values\n",
    "  year_diffs = np.abs((y1[None, :] - y2[:, None]) / 100)\n",
    "  return year_diffs\n",
    "\n",
    "def norm(data, ceiling=float('inf'), floor=float('-inf')):\n",
    "  \"\"\" Normalize an array of data with the provided ceiling a floor.\n",
    "\n",
    "  :param data: An array of data\n",
    "  :param ceiling: Any value >= ceiling becomes 1\n",
    "  :param floor: Any value <= floor becomes 0\n",
    "  :return:\n",
    "  \"\"\"\n",
    "\n",
    "  if ceiling < float('inf'):\n",
    "    ceiling = max(data)\n",
    "\n",
    "  if floor > float('-inf'):\n",
    "    floor = min(data)\n",
    "\n",
    "  result = ((data - floor) / (ceiling - floor))\n",
    "  for x in range(len(result)):\n",
    "    if result[x] > 1:\n",
    "      result[x] = 1\n",
    "    if result[x] < 0:\n",
    "      result[x] = 0\n",
    "\n",
    "  return result\n",
    "\n",
    "year_m = year_scores(movies_df)\n",
    "base_m = base_scores(movies_df)\n",
    "genre_m = genre_scores(movies_df)\n",
    "description_m = description_scores(movies_df)\n",
    "pop_v = norm(movies_df['popularity'], ceiling=50, floor=0)\n",
    "rating_v = norm(movies_df['average_vote'], ceiling=10, floor=0)\n",
    "\n",
    "print(year_m)\n",
    "print(base_m)\n",
    "print(genre_m)\n",
    "print(description_m)\n",
    "print(pop_v)\n",
    "print(rating_v)"
   ],
   "metadata": {
    "id": "jCA-n4Cm5z7m",
    "colab": {
     "base_uri": "https://localhost:8080/"
    },
    "outputId": "29d99dd5-8529-4980-c64a-4d1dbbbed8ca"
   },
   "execution_count": 47,
   "outputs": [
    {
     "name": "stdout",
     "output_type": "stream",
     "text": [
      "[[0.   0.   0.   ... 0.22 0.21 0.04]\n",
      " [0.   0.   0.   ... 0.22 0.21 0.04]\n",
      " [0.   0.   0.   ... 0.22 0.21 0.04]\n",
      " ...\n",
      " [0.22 0.22 0.22 ... 0.   0.01 0.26]\n",
      " [0.21 0.21 0.21 ... 0.01 0.   0.25]\n",
      " [0.04 0.04 0.04 ... 0.26 0.25 0.  ]]\n",
      "[[1. 0. 0. ... 0. 0. 0.]\n",
      " [0. 1. 0. ... 0. 0. 0.]\n",
      " [0. 0. 1. ... 0. 0. 0.]\n",
      " ...\n",
      " [0. 0. 0. ... 1. 0. 0.]\n",
      " [0. 0. 0. ... 0. 1. 0.]\n",
      " [0. 0. 0. ... 0. 0. 1.]]\n",
      "[[1.         0.33333333 0.40824829 ... 0.40824829 0.33333333 0.        ]\n",
      " [0.33333333 1.         0.         ... 0.         0.         0.        ]\n",
      " [0.40824829 0.         1.         ... 1.         0.40824829 0.40824829]\n",
      " ...\n",
      " [0.40824829 0.         1.         ... 1.         0.40824829 0.40824829]\n",
      " [0.33333333 0.         0.40824829 ... 0.40824829 1.         0.33333333]\n",
      " [0.         0.         0.40824829 ... 0.40824829 0.33333333 1.        ]]\n",
      "[[1.         0.01799114 0.         ... 0.         0.         0.        ]\n",
      " [0.01799114 1.         0.04808876 ... 0.         0.         0.        ]\n",
      " [0.         0.04808876 1.         ... 0.         0.         0.        ]\n",
      " ...\n",
      " [0.         0.         0.         ... 1.         0.         0.        ]\n",
      " [0.         0.         0.         ... 0.         1.         0.        ]\n",
      " [0.         0.         0.         ... 0.         0.         1.        ]]\n",
      "0       0.055363\n",
      "1       0.041522\n",
      "2       0.020761\n",
      "3       0.010381\n",
      "4       0.041522\n",
      "          ...   \n",
      "9237    0.010381\n",
      "9238    0.013841\n",
      "9239    0.000000\n",
      "9240    0.010381\n",
      "9241    0.000000\n",
      "Name: popularity, Length: 9242, dtype: float64\n",
      "0       0.716049\n",
      "1       0.617284\n",
      "2       0.567901\n",
      "3       0.469136\n",
      "4       0.716049\n",
      "          ...   \n",
      "9237    1.000000\n",
      "9238    0.506173\n",
      "9239    0.530864\n",
      "9240    0.456790\n",
      "9241    0.469136\n",
      "Name: average_vote, Length: 9242, dtype: float64\n"
     ]
    }
   ]
  },
  {
   "cell_type": "code",
   "source": [
    "def combine(base_scores, genre_scores, description_scores, year_scores, popularity_vector, rating_vector):\n",
    "  \"\"\" Combines similarity matrices and vectors using addition and weights\n",
    "\n",
    "  :param base_scores: Base similarity matrix\n",
    "  :param genre_scores: Genre similarity matrix\n",
    "  :param description_scores: Description similarity matrix\n",
    "  :param year_scores: Year difference matrix\n",
    "  :param popularity_vector: Popularity vector\n",
    "  :param rating_vector: Rating vector\n",
    "  :return: Resulting similarity matrix from the weighted computation\n",
    "  \"\"\"\n",
    "  weighted_base = np.multiply(base_scores, 2.0)\n",
    "  weighted_genres = np.multiply(genre_scores, 2.5)\n",
    "  weighted_descriptions = np.multiply(description_scores, 1.5)\n",
    "  weighted_years = np.multiply(year_scores, -4)\n",
    "\n",
    "  weighted_pop = np.multiply(popularity_vector, 1.5)\n",
    "  weighted_ratings = np.multiply(rating_vector, 3)\n",
    "\n",
    "  combined_matrix = weighted_base + weighted_genres + weighted_descriptions + weighted_years\n",
    "  combined_matrix = combined_matrix + (weighted_pop + weighted_ratings)[:, np.newaxis]\n",
    "\n",
    "  return combined_matrix\n",
    "\n",
    "scores = combine(base_m, genre_m, description_m, year_m, pop_v, rating_v)"
   ],
   "metadata": {
    "id": "UvA97b1upK9f",
    "colab": {
     "base_uri": "https://localhost:8080/"
    },
    "outputId": "76912e00-a449-4c24-b3c8-aab3cca0bfdd"
   },
   "execution_count": 58,
   "outputs": [
    {
     "name": "stderr",
     "output_type": "stream",
     "text": [
      "/var/folders/sf/mblmxltx6bxc945qnhg523vm0000gn/T/ipykernel_1282/879823038.py:21: FutureWarning: Support for multi-dimensional indexing (e.g. `obj[:, None]`) is deprecated and will be removed in a future version.  Convert to a numpy array before indexing instead.\n",
      "  combined_matrix = combined_matrix + (weighted_pop + weighted_ratings)[:, np.newaxis]\n"
     ]
    }
   ]
  },
  {
   "cell_type": "markdown",
   "source": [
    "# Make the Recommendations\n",
    "Provide a ranked list of the 'most similar' movies to the input movies provided."
   ],
   "metadata": {
    "id": "tXeh0w4znlQk"
   }
  },
  {
   "cell_type": "code",
   "source": [
    "def recommend(movies, scores, titles, count):\n",
    "  \"\"\" Make a recommendation list based on a list of titles\n",
    "\n",
    "  :param movies: DataFrame of movies & info\n",
    "  :param scores: Similarity matrix for the movies\n",
    "  :param titles: List of input titles\n",
    "  :param count: Number of recommendations to output\n",
    "  :return:\n",
    "  \"\"\"\n",
    "  proximity_arr = np.zeros([len(movies), 2])\n",
    "  proximity_arr[:,0] = np.array(movies[\"index\"], dtype=int)\n",
    "  for title in titles:\n",
    "    movie_index = fetch_title(movies, title)\n",
    "    proximity_row = np.array(scores[movie_index])\n",
    "    proximity_arr[:,1] = proximity_arr[:,1] + proximity_row\n",
    "\n",
    "  movie_proximity_sorted = proximity_arr[proximity_arr[:, 1].argsort()][::-1]\n",
    "\n",
    "  i = 0\n",
    "  n = 1\n",
    "  print(\"Recommendations:\")\n",
    "  while n <= count:\n",
    "    title = fetch_index(movies, int(movie_proximity_sorted[i, 0]))\n",
    "    if title not in titles:\n",
    "      print(f\"{n}. {title}\")\n",
    "      n+=1\n",
    "    i+=1\n",
    "\n",
    "\n",
    "num_recommendations = 15\n",
    "titles = [\"Rogue One: A Star Wars Story\", \"World War Z\"]\n",
    "recommend(movies_df, scores, titles, num_recommendations)"
   ],
   "metadata": {
    "colab": {
     "base_uri": "https://localhost:8080/"
    },
    "id": "hHPcvTpMnjg5",
    "outputId": "9c039e66-3513-4c14-c0d0-8264511d646a"
   },
   "execution_count": 59,
   "outputs": [
    {
     "name": "stdout",
     "output_type": "stream",
     "text": [
      "Recommendations:\n",
      "1. Jurassic World\n",
      "2. Star Trek Into Darkness\n",
      "3. Star Trek Beyond\n",
      "4. Captain America: Civil War\n",
      "5. Robot Overlords\n",
      "6. Independence Day: Resurgence\n",
      "7. Godzilla\n",
      "8. Terminator Genisys\n",
      "9. Shin Godzilla\n",
      "10. Mad Max: Fury Road\n",
      "11. Halo: Nightfall\n",
      "12. Hardcore Henry\n",
      "13. After Earth\n",
      "14. Captain America: The Winter Soldier\n",
      "15. Avengers: Age of Ultron\n"
     ]
    }
   ]
  },
  {
   "cell_type": "markdown",
   "source": [
    "# Preliminary Exploratory Data Analysis\n",
    "This section was primarily used before cleaning the dataset used here. Analysis involving cleaned columns and rows\n",
    "was removed from this notebook."
   ],
   "metadata": {
    "id": "Bj8gEN8EtAPC"
   }
  },
  {
   "cell_type": "code",
   "source": [
    "all_genres = [s.split(\", \") for s in movies_df[movies_df.genres.notnull()].genres]\n",
    "genres = [item for l in all_genres for item in l ]\n",
    "unique_genres = set(genres)\n",
    "print (f\"total of {len(unique_genres)} unique genres from {len(genres)} occurances.\")\n",
    "pd.Series(genres).value_counts().plot(kind='bar', figsize=(15, 4))\n",
    "plt.title(\"# of movies per genre\")\n",
    "plt.ylabel(\"# of movies\")\n",
    "plt.xlabel(\"genre\")\n",
    "plt.show()"
   ],
   "metadata": {
    "colab": {
     "base_uri": "https://localhost:8080/",
     "height": 374
    },
    "id": "5OH1vdwWtNeZ",
    "outputId": "07eb7168-7899-4e7e-cf0e-06803b5de6b5"
   },
   "execution_count": 20,
   "outputs": [
    {
     "name": "stdout",
     "output_type": "stream",
     "text": [
      "total of 20 unique genres from 23579 occurances.\n"
     ]
    },
    {
     "data": {
      "text/plain": "<Figure size 1080x288 with 1 Axes>",
      "image/png": "[encoded data removed]"
     },
     "metadata": {
      "needs_background": "light"
     },
     "output_type": "display_data"
    }
   ]
  },
  {
   "cell_type": "code",
   "source": [
    "movies_df['year'] = movies_df['year'].replace(0, np.NaN)\n",
    "years = movies_df[movies_df.year.notnull()].year # get rows where year is not None\n",
    "print (f\"Total of {len(set(years))} uinque years from {min(years)} to {max(years)}\")\n",
    "pd.Series(years).value_counts().sort_index().plot(kind='bar', figsize=(30, 15))\n",
    "plt.title(\"# of movies over time\")\n",
    "plt.ylabel(\"# of movies\")\n",
    "plt.xlabel(\"year\")\n",
    "plt.show()"
   ],
   "metadata": {
    "colab": {
     "base_uri": "https://localhost:8080/",
     "height": 730
    },
    "id": "IhjPXf_Qtwri",
    "outputId": "dc9e73c5-d60e-4181-83cf-4a386f1c2c1d"
   },
   "execution_count": 156,
   "outputs": [
    {
     "name": "stdout",
     "output_type": "stream",
     "text": [
      "Total of 100 uinque years from 1896 to 2017\n"
     ]
    },
    {
     "data": {
      "text/plain": "<Figure size 2160x1080 with 1 Axes>",
      "image/png": "[encoded data removed]"
     },
     "metadata": {
      "needs_background": "light"
     },
     "output_type": "display_data"
    }
   ]
  },
  {
   "cell_type": "code",
   "source": [
    "movies_df['average_vote'] = movies_df['average_vote'].replace(0, np.NaN)\n",
    "print (movies_df['average_vote'].describe())\n",
    "pd.Series(movies_df['average_vote']).value_counts().sort_index().plot(kind='bar', figsize=(15, 10))\n",
    "plt.title(\"Distribution of votes\")\n",
    "plt.ylabel(\"# of movies\")\n",
    "plt.xlabel(\"votes\")\n",
    "plt.show()\n"
   ],
   "metadata": {
    "colab": {
     "base_uri": "https://localhost:8080/",
     "height": 798
    },
    "id": "VwqE6hJjt4YO",
    "outputId": "ca80d335-fa13-47c6-999f-3d999eb124b0",
    "pycharm": {
     "name": "#%%\n"
    }
   },
   "execution_count": 157,
   "outputs": [
    {
     "name": "stdout",
     "output_type": "stream",
     "text": [
      "count    9242.000000\n",
      "mean        6.259013\n",
      "std         0.916086\n",
      "min         1.900000\n",
      "25%         5.700000\n",
      "50%         6.300000\n",
      "75%         6.900000\n",
      "max        10.000000\n",
      "Name: average_vote, dtype: float64\n"
     ]
    },
    {
     "data": {
      "text/plain": "<Figure size 1080x720 with 1 Axes>",
      "image/png": "[encoded data removed]"
     },
     "metadata": {
      "needs_background": "light"
     },
     "output_type": "display_data"
    }
   ]
  }
 ]
}